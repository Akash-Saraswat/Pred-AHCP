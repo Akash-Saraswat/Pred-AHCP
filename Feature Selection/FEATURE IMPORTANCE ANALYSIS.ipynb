{
 "cells": [
  {
   "cell_type": "markdown",
   "metadata": {},
   "source": [
    "FEATURE IMPORTANCE ANALYSIS"
   ]
  },
  {
   "cell_type": "code",
   "execution_count": null,
   "metadata": {},
   "outputs": [],
   "source": [
    "import pandas as pd\n",
    "from scipy.cluster.hierarchy import cophenet\n",
    "from scipy.spatial.distance import pdist\n",
    "import os\n",
    "import scipy.cluster.hierarchy as shc\n",
    "import matplotlib.pyplot as plt\n",
    "import seaborn as sns\n",
    "import sys"
   ]
  },
  {
   "cell_type": "code",
   "execution_count": null,
   "metadata": {},
   "outputs": [],
   "source": [
    "# finding present working directory\n",
    "import os\n",
    "os.getcwd()\n",
    "\n",
    "# changing the working directory\n",
    "os.chdir('/home/researchlab/Downloads/CODES/Data')\n",
    "\n",
    "print(os.getcwd())\n",
    "\n",
    "#checking the files in the directory\n",
    "os.listdir()\n"
   ]
  },
  {
   "cell_type": "code",
   "execution_count": null,
   "metadata": {},
   "outputs": [],
   "source": [
    "import numpy as np\n",
    "\n",
    "data1 = pd.read_csv('10_dataset_subset_common.csv')\n",
    "print(data1)\n",
    "data1.describe()\n",
    "\n",
    "# Developing X and Y\n",
    "X = data1.drop(['ID', 'Label', 'Sequence'], axis=1)\n",
    "Y = data1[['Label']]\n",
    "Y = np.ravel(Y)\n",
    "\n",
    "cols_MI = X.columns\n",
    "\n"
   ]
  },
  {
   "cell_type": "markdown",
   "metadata": {},
   "source": [
    "Mutual Information Ranking Analysis"
   ]
  },
  {
   "cell_type": "code",
   "execution_count": null,
   "metadata": {},
   "outputs": [],
   "source": [
    "# Calculating mutual information classification using union dataset\n",
    "from sklearn.feature_selection import mutual_info_classif\n",
    "# determine the mutual information\n",
    "mutual_info = mutual_info_classif(X, Y, random_state=99)\n",
    "\n",
    "# sorting the mutual information values in descending order\n",
    "mutual_info = pd.Series(mutual_info)\n",
    "mutual_info.index = X.columns\n",
    "\n",
    "#plotting the mutual information values\n",
    "mutual_info = mutual_info.sort_values(ascending=False)\n",
    "mutual_info.sort_values(ascending=False).plot.bar(figsize=(20,8))\n",
    "\n",
    "# saving the order of column name to be used in next dataframe\n",
    "cols_MI_index = mutual_info.index\n",
    "\n",
    "print(cols_MI_index)\n",
    "\n",
    "# adding ID, Label, Sequence into the cols_MI_index\n",
    "cols_MI_index = cols_MI_index.insert(0, 'ID')\n",
    "cols_MI_index = cols_MI_index.insert(1, 'Label')\n",
    "cols_MI_index = cols_MI_index.insert(2, 'Sequence')\n",
    "\n",
    "print(cols_MI_index)\n"
   ]
  },
  {
   "cell_type": "markdown",
   "metadata": {},
   "source": [
    "Plots: Matching the dataset with Target information"
   ]
  },
  {
   "cell_type": "code",
   "execution_count": null,
   "metadata": {},
   "outputs": [],
   "source": [
    "# isolating the X columns with maximum value greater than 1.0\n",
    "df1 = X.loc[:, (X.max() > 1.0)]\n",
    "\n",
    "#develop a for loop to divide each value in column by 100\n",
    "for i in df1.columns:\n",
    "    X[i] = df1[i].div(100)\n",
    "\n",
    "X.describe()\n",
    "\n",
    "# combining the X with ID, Label, Sequence column of data1\n",
    "data1 = pd.concat([data1[['ID', 'Label', 'Sequence']], X], axis=1)\n",
    "print(data1)\n"
   ]
  },
  {
   "cell_type": "code",
   "execution_count": null,
   "metadata": {},
   "outputs": [],
   "source": [
    "# setting the index of data1 to cols_MI_index\n",
    "data1 = data1.reindex(columns=cols_MI_index)\n",
    "print(data1)"
   ]
  },
  {
   "cell_type": "code",
   "execution_count": null,
   "metadata": {},
   "outputs": [],
   "source": [
    "Seq_target_src_data = pd.read_csv('ahcp_seq_target.csv')\n",
    "print(Seq_target_src_data.shape)\n",
    "\n",
    "display(Seq_target_src_data)\n",
    "\n",
    "t1 = data2.Sequence\n",
    "t2 = Seq_target_src_data.Sequence\n",
    "out= t1.map(dict(zip(t2, t2.index)))\n",
    "print(\"out:\")\n",
    "display(out)"
   ]
  },
  {
   "cell_type": "code",
   "execution_count": null,
   "metadata": {},
   "outputs": [],
   "source": [
    "tmp_matched_df_Seq_target_src_data = Seq_target_src_data.iloc[out.values]\n",
    "print(\"tmp_matched_df_Seq_target_src_data:\")\n",
    "display(tmp_matched_df_Seq_target_src_data[['Sequence', 'Target']])\n",
    "\n",
    "data2['CheckSeqTarget']=tmp_matched_df_Seq_target_src_data.Sequence.values\n",
    "data2['Target'] = tmp_matched_df_Seq_target_src_data.Target.values\n",
    "print(\"data2:\")\n",
    "display(data2)\n",
    "\n",
    "if all(data2.CheckSeqTarget.isin(data2.Sequence)):\n",
    "  print(\"Check Passed: All Sequences Match!!\")\n",
    "else:\n",
    "  print(\"Check Failed: Sequences don't Match\")"
   ]
  },
  {
   "cell_type": "code",
   "execution_count": null,
   "metadata": {},
   "outputs": [],
   "source": [
    "data3 = data2.drop(['Label', 'ID', 'Target', 'CheckSeqTarget'], axis=1)\n",
    "print(\"data3:\")\n",
    "display(data3)"
   ]
  },
  {
   "cell_type": "code",
   "execution_count": null,
   "metadata": {},
   "outputs": [],
   "source": [
    "out.values"
   ]
  },
  {
   "cell_type": "markdown",
   "metadata": {},
   "source": [
    "Plots: Generating the Plots"
   ]
  },
  {
   "cell_type": "code",
   "execution_count": null,
   "metadata": {},
   "outputs": [],
   "source": [
    "dirname = \"dendograms\"\n",
    "\n",
    "if(os.path.isdir(\"./\" + dirname) == False):\n",
    "  os.mkdir(\"./\" + dirname)\n",
    "fignameid1 = \"FeatureDistrib_used_Dendograms\" + \".png\"\n",
    "fignameid1 = \"./\" + dirname + \"/\" + fignameid1\n",
    "print(\"Saved file :\", fignameid1)\n"
   ]
  },
  {
   "cell_type": "code",
   "execution_count": null,
   "metadata": {},
   "outputs": [],
   "source": [
    "def show_boxplot(df, title=\"Selected Features\"):\n",
    "  plt.figure(figsize=(16,3))\n",
    "  sns.boxplot(data = df, orient=\"v\", palette=\"Set2\", showmeans=True, meanprops={\"marker\":\"o\", \"markerfacecolor\":\"white\",\"markeredgecolor\":\"black\", \"markersize\":\"6\"})\n",
    "  plt.title(title, fontsize = 16)\n",
    "  plt.ylabel(\"Range\", fontweight = 'bold')\n",
    "  plt.xlabel(\"Attributes\", fontweight = 'bold')\n",
    "  plt.xticks(rotation=90)\n",
    "  plt.yscale(\"log\")\n",
    "  plt.ylim([1e-4, 200])"
   ]
  },
  {
   "cell_type": "code",
   "execution_count": null,
   "metadata": {},
   "outputs": [],
   "source": [
    "show_boxplot(data3)\n",
    "plt.savefig(fignameid1, dpi=1200, bbox_inches='tight')"
   ]
  },
  {
   "cell_type": "code",
   "execution_count": null,
   "metadata": {},
   "outputs": [],
   "source": [
    "from matplotlib.colors import LogNorm\n",
    "from matplotlib.patches import Patch\n",
    "import colorcet as cc\n",
    "\n",
    "def colourcode_targets(TargetSeries):\n",
    "  targets_series = TargetSeries\n",
    "  targetcolours_pal = sns.color_palette(cc.glasbey_dark,n_colors = len(set(targets_series.unique())))\n",
    "  print(targetcolours_pal)\n",
    "  targets_lut = dict(zip(targets_series.unique(), targetcolours_pal))\n",
    "  target_colors = pd.Series(targets_series).map(targets_lut)\n",
    "  display(targets_series)\n",
    "  display(targetcolours_pal)\n",
    "  display(target_colors)\n",
    "\n",
    "  return target_colors, targets_lut\n",
    "\n",
    "\n",
    "def change_loc_rowcolors(scm):\n",
    "  ax_row_colors = scm.ax_row_colors\n",
    "  box = ax_row_colors.get_position()\n",
    "  box_heatmap = scm.ax_heatmap.get_position()\n",
    "  ax_row_colors.set_position([box_heatmap.max[0], box.y0, box.width*1.5, box.height])\n",
    "  scm.ax_headmap.tick_params(axis='y', pad=25, length=10)\n",
    "\n",
    "\n",
    "fignameid2 = \"OrigData_Clustermap_Features\" + \".png\"\n",
    "fignameid2 = \"./\" + dirname + \"/\" + fignameid2\n",
    "print(\"Saved file:\", fignameid2)\n",
    "sns.set(font_scale=0.6)\n",
    "ax = plt.figure(figsize=(50,100))\n",
    "\n",
    "target_colors, targets_lut = colourcode_targets(data2.Target)"
   ]
  },
  {
   "cell_type": "code",
   "execution_count": null,
   "metadata": {},
   "outputs": [],
   "source": [
    "#scm = sns.clustermap(data3.set_index('Sequence'), norm=LogNorm(), cmap='rocket', method='complete', metric='euclidean', xticklabels=True, vmin=1.0e-2, vmax=1.0e2, row_colors=target_colors.values, cbar_pos = (0.3, 0.87, 0.4, 0.02), cbar_kws={\"orientation\":\"horizontal\"})\n",
    "scm = sns.clustermap(data3.set_index('Sequence'), norm=LogNorm(), cmap='rocket', method='complete', metric='euclidean', xticklabels=True, vmin=1.0e-2, vmax=1.0e2, row_colors=target_colors.values, cbar_pos = (0.3, 0.87, 0.4, 0.02), cbar_kws={\"orientation\":\"horizontal\"})\n",
    "scm.ax_col_dendrogram.set_visible(False)\n",
    "scm.ax_col_dendrogram.set_xlabel('Targets & Features', fontsize=10, fontweight='bold', color='black')\n",
    "\n",
    "print(scm.ax_heatmap.get_position())\n",
    "scm.ax_row_colors.set_xticks([scm.ax_heatmap.get_position().max[0] - 0.2])\n",
    "scm.ax_row_colors.set_xticklabels([\"Targets\"], rotation=90, fontsize=10, fontweight='bold', color='black')\n",
    "\n",
    "scm.ax_heatmap.yaxis.set_ticks_position(\"right\")\n",
    "scm.ax_heatmap.tick_params(axis='x', pad =-5)\n",
    "for line in scm.ax_heatmap.get_xticklines():\n",
    "  line.set_data([20,0])\n",
    "\n",
    "handles = [Patch(facecolor=targets_lut[name]) for name in targets_lut]\n",
    "plt.legend(handles, targets_lut, title='Targets', bbox_to_anchor=(0.95, 0.2), bbox_transform=plt.gcf().transFigure, loc=(0,40), facecolor='white')\n",
    "plt.savefig(fignameid2, dpi=1200, bbox_inches='tight')\n",
    "\n",
    "print(scm.ax_heatmap.yaxis.get_majorticklabels()[2])"
   ]
  }
 ],
 "metadata": {
  "language_info": {
   "name": "python"
  }
 },
 "nbformat": 4,
 "nbformat_minor": 2
}
